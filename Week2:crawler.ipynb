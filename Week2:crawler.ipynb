{
 "cells": [
  {
   "cell_type": "code",
   "execution_count": 18,
   "metadata": {},
   "outputs": [
    {
     "name": "stdout",
     "output_type": "stream",
     "text": [
      "此條目或其章節有關連載中或未完結的作品。維基百科不是新聞的蒐集處。請留心記載正確資訊，在情報相對明朗之後進行編輯更新。\n",
      "此條目須擴充相關主題的現實世界視角內容，如緣由或背景、設計概念、製作及發展過程、評價或影響等。 (2021年4月20日)請根據虛構格式手冊和相關指南來改善這個條目。若條目為電子遊戲類，可根據電子遊戲條目指引撰寫。\n",
      "Star Platinum\n",
      "Geb\n",
      "Tenor Sax\n",
      "Crazy Diamond\n",
      "?\n",
      "Gold Experience\n",
      "Stone Free\n",
      "Scan\n",
      "SOFT & WET\n",
      "\n",
      "\n",
      "SATANIC COUPLER\n",
      "STRANGE RELATION\n",
      "The Book\n",
      "The Cure\n",
      "Dolly Dagger\n",
      "The World－Over Heaven\n",
      "ラブ・ノート\n",
      "Houses of Holy\n",
      "Reference\n"
     ]
    }
   ],
   "source": [
    "from bs4 import BeautifulSoup\n",
    "from cgitb import text\n",
    "import requests\n",
    "res = requests.get(\"https://zh.m.wikipedia.org/zh-tw/%E6%9B%BF%E8%BA%AB_(JoJo%E7%9A%84%E5%A5%87%E5%A6%99%E5%86%92%E9%9A%AA)\")\n",
    "soup = BeautifulSoup(res.text)\n",
    "#print(soup.prettify())\n",
    "for stand in soup.select('table',class_=\"wikitable\") :\n",
    "    print(stand.select('td')[0].text)\n",
    "    print('HI')"
   ]
  }
 ],
 "metadata": {
  "kernelspec": {
   "display_name": "Python 3.9.4 64-bit",
   "language": "python",
   "name": "python3"
  },
  "language_info": {
   "codemirror_mode": {
    "name": "ipython",
    "version": 3
   },
   "file_extension": ".py",
   "mimetype": "text/x-python",
   "name": "python",
   "nbconvert_exporter": "python",
   "pygments_lexer": "ipython3",
   "version": "3.9.4"
  },
  "orig_nbformat": 4,
  "vscode": {
   "interpreter": {
    "hash": "aee8b7b246df8f9039afb4144a1f6fd8d2ca17a180786b69acc140d282b71a49"
   }
  }
 },
 "nbformat": 4,
 "nbformat_minor": 2
}
