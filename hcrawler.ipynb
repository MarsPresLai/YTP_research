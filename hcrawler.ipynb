{
 "cells": [
  {
   "cell_type": "code",
   "execution_count": null,
   "metadata": {},
   "outputs": [],
   "source": [
    "\n",
    "import requests\n",
    "from bs4 import BeautifulSoup\n",
    "import os\n",
    "url = \"\"\n",
    "\n",
    "res = requests.get(url)\n",
    "soup = BeautifulSoup(res.content, 'html.parser')\n",
    "links = soup.find('div',attrs = {'id' : 'comic-area'})\n",
    "\n",
    "index = 0\n",
    "for link in links.find_all('img'):\n",
    "    if not os.path.exists(\"images\"):\n",
    "        os.mkdir(\"images\")  # 建立資料夾\n",
    "    cur = link.get('src')\n",
    "    print(cur)\n",
    "    img = requests.get(cur)\n",
    "    with open(\"images\\\\\" + \"data\"+ str(index+1) + \".jpg\", \"wb\") as file:\n",
    "        file.write(img.content)\n",
    "        index += 1"
   ]
  }
 ],
 "metadata": {
  "kernelspec": {
   "display_name": "Python 3.8.2 64-bit",
   "language": "python",
   "name": "python3"
  },
  "language_info": {
   "codemirror_mode": {
    "name": "ipython",
    "version": 3
   },
   "file_extension": ".py",
   "mimetype": "text/x-python",
   "name": "python",
   "nbconvert_exporter": "python",
   "pygments_lexer": "ipython3",
   "version": "3.8.2"
  },
  "orig_nbformat": 4,
  "vscode": {
   "interpreter": {
    "hash": "3e3fd92e60033c2c468f2aa34f420923174fa4da36538549a2b57cb1ee43ac76"
   }
  }
 },
 "nbformat": 4,
 "nbformat_minor": 2
}
