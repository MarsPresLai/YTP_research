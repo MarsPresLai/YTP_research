{
 "cells": [
  {
   "cell_type": "code",
   "execution_count": 23,
   "metadata": {},
   "outputs": [
    {
     "name": "stdout",
     "output_type": "stream",
     "text": [
      "http://cdn.ddd-smart.net/20220919/014/001.jpg\n",
      "http://cdn.ddd-smart.net/20220919/014/002.jpg\n",
      "http://cdn.ddd-smart.net/20220919/014/003.jpg\n",
      "http://cdn.ddd-smart.net/20220919/014/004.jpg\n",
      "http://cdn.ddd-smart.net/20220919/014/005.jpg\n",
      "http://cdn.ddd-smart.net/20220919/014/006.jpg\n",
      "http://cdn.ddd-smart.net/20220919/014/007.jpg\n",
      "http://cdn.ddd-smart.net/20220919/014/008.jpg\n",
      "http://cdn.ddd-smart.net/20220919/014/009.jpg\n",
      "http://cdn.ddd-smart.net/20220919/014/010.jpg\n",
      "http://cdn.ddd-smart.net/20220919/014/011.jpg\n",
      "http://cdn.ddd-smart.net/20220919/014/012.jpg\n",
      "http://cdn.ddd-smart.net/20220919/014/013.jpg\n",
      "http://cdn.ddd-smart.net/20220919/014/014.jpg\n",
      "http://cdn.ddd-smart.net/20220919/014/015.jpg\n",
      "http://cdn.ddd-smart.net/20220919/014/016.jpg\n",
      "http://cdn.ddd-smart.net/20220919/014/017.jpg\n",
      "http://cdn.ddd-smart.net/20220919/014/018.jpg\n",
      "http://cdn.ddd-smart.net/20220919/014/019.jpg\n",
      "http://cdn.ddd-smart.net/20220919/014/020.jpg\n",
      "http://cdn.ddd-smart.net/20220919/014/021.jpg\n",
      "http://cdn.ddd-smart.net/20220919/014/022.jpg\n",
      "http://cdn.ddd-smart.net/20220919/014/023.jpg\n",
      "http://cdn.ddd-smart.net/20220919/014/024.jpg\n",
      "http://cdn.ddd-smart.net/20220919/014/025.jpg\n",
      "http://cdn.ddd-smart.net/20220919/014/026.jpg\n",
      "http://cdn.ddd-smart.net/20220919/014/027.jpg\n",
      "http://cdn.ddd-smart.net/20220919/014/028.jpg\n",
      "http://cdn.ddd-smart.net/20220919/014/029.jpg\n",
      "http://cdn.ddd-smart.net/20220919/014/030.jpg\n",
      "http://cdn.ddd-smart.net/20220919/014/031.jpg\n",
      "http://cdn.ddd-smart.net/20220919/014/032.jpg\n",
      "http://cdn.ddd-smart.net/20220919/014/033.jpg\n",
      "http://cdn.ddd-smart.net/20220919/014/034.jpg\n",
      "http://cdn.ddd-smart.net/20220919/014/035.jpg\n",
      "http://cdn.ddd-smart.net/20220919/014/036.jpg\n",
      "http://cdn.ddd-smart.net/20220919/014/037.jpg\n",
      "http://cdn.ddd-smart.net/20220919/014/038.jpg\n",
      "http://cdn.ddd-smart.net/20220919/014/039.jpg\n",
      "http://cdn.ddd-smart.net/20220919/014/040.jpg\n",
      "http://cdn.ddd-smart.net/20220919/014/041.jpg\n",
      "http://cdn.ddd-smart.net/20220919/014/042.jpg\n",
      "http://cdn.ddd-smart.net/20220919/014/043.jpg\n",
      "http://cdn.ddd-smart.net/20220919/014/044.jpg\n",
      "http://cdn.ddd-smart.net/20220919/014/045.jpg\n",
      "http://cdn.ddd-smart.net/20220919/014/046.jpg\n",
      "http://cdn.ddd-smart.net/20220919/014/047.jpg\n",
      "http://cdn.ddd-smart.net/20220919/014/048.jpg\n"
     ]
    }
   ],
   "source": [
    "\n",
    "import requests\n",
    "from bs4 import BeautifulSoup\n",
    "import os\n",
    "url = \"\"\n",
    "\n",
    "res = requests.get(url)\n",
    "soup = BeautifulSoup(res.content, 'html.parser')\n",
    "links = soup.find('div',attrs = {'id' : 'comic-area'})\n",
    "\n",
    "index = 0\n",
    "for link in links.find_all('img'):\n",
    "    if not os.path.exists(\"images\"):\n",
    "        os.mkdir(\"images\")  # 建立資料夾\n",
    "    cur = link.get('src')\n",
    "    print(cur)\n",
    "    img = requests.get(cur)\n",
    "    with open(\"images\\\\\" + \"data\"+ str(index+1) + \".jpg\", \"wb\") as file:\n",
    "        file.write(img.content)\n",
    "        index += 1"
   ]
  }
 ],
 "metadata": {
  "kernelspec": {
   "display_name": "Python 3.8.2 64-bit",
   "language": "python",
   "name": "python3"
  },
  "language_info": {
   "codemirror_mode": {
    "name": "ipython",
    "version": 3
   },
   "file_extension": ".py",
   "mimetype": "text/x-python",
   "name": "python",
   "nbconvert_exporter": "python",
   "pygments_lexer": "ipython3",
   "version": "3.8.2"
  },
  "orig_nbformat": 4,
  "vscode": {
   "interpreter": {
    "hash": "3e3fd92e60033c2c468f2aa34f420923174fa4da36538549a2b57cb1ee43ac76"
   }
  }
 },
 "nbformat": 4,
 "nbformat_minor": 2
}
